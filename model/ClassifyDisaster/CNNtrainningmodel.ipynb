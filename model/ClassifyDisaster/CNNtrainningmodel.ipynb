{
  "nbformat": 4,
  "nbformat_minor": 0,
  "metadata": {
    "colab": {
      "provenance": [],
      "gpuType": "T4"
    },
    "kernelspec": {
      "name": "python3",
      "display_name": "Python 3"
    },
    "language_info": {
      "name": "python"
    },
    "accelerator": "GPU"
  },
  "cells": [
    {
      "cell_type": "code",
      "source": [
        "from google.colab import drive\n",
        "drive.mount('/content/drive')"
      ],
      "metadata": {
        "colab": {
          "base_uri": "https://localhost:8080/"
        },
        "id": "71zP5_aLEmjl",
        "outputId": "02a559bc-858b-4d6d-bad1-bdda66e0d46d"
      },
      "execution_count": null,
      "outputs": [
        {
          "output_type": "stream",
          "name": "stdout",
          "text": [
            "Mounted at /content/drive\n"
          ]
        }
      ]
    },
    {
      "cell_type": "code",
      "source": [
        "import zipfile\n",
        "\n",
        "# Đường dẫn tới tệp zip trong Google Drive\n",
        "dataset_path = '/content/drive/MyDrive/archive.zip'\n",
        "\n",
        "# Đường dẫn để giải nén tệp\n",
        "extract_path = '/content/dataset/'\n",
        "\n",
        "# Giải nén tệp\n",
        "with zipfile.ZipFile(dataset_path, 'r') as zip_ref:\n",
        "    zip_ref.extractall(extract_path)\n",
        "\n",
        "print(f\"Dataset đã được giải nén vào {extract_path}\")\n"
      ],
      "metadata": {
        "colab": {
          "base_uri": "https://localhost:8080/"
        },
        "id": "oOX1el1mElTi",
        "outputId": "852e3db5-4fe8-4d0a-a4a5-67b079da126c"
      },
      "execution_count": null,
      "outputs": [
        {
          "output_type": "stream",
          "name": "stdout",
          "text": [
            "Dataset đã được giải nén vào /content/dataset/\n"
          ]
        }
      ]
    },
    {
      "cell_type": "code",
      "source": [],
      "metadata": {
        "id": "5ZV7yS8KEtTN"
      },
      "execution_count": null,
      "outputs": []
    },
    {
      "cell_type": "code",
      "source": [
        "# Data manipulation and analysis\n",
        "import pandas as pd\n",
        "import numpy as np\n",
        "import os\n",
        "import zipfile\n",
        "\n",
        "# Text processing and classification\n",
        "from sklearn.feature_extraction.text import TfidfVectorizer\n",
        "from sklearn.linear_model import LogisticRegression\n",
        "from sklearn.metrics import (\n",
        "    accuracy_score,\n",
        "    classification_report,\n",
        "    confusion_matrix,\n",
        "    precision_score,\n",
        "    recall_score,\n",
        "    f1_score,\n",
        "    roc_auc_score,\n",
        "    roc_curve,\n",
        "    auc,\n",
        ")\n",
        "\n",
        "# Plotting\n",
        "import matplotlib.pyplot as plt\n",
        "\n",
        "# Image processing\n",
        "from PIL import Image, ImageFile\n",
        "ImageFile.LOAD_TRUNCATED_IMAGES = True\n",
        "\n",
        "# Deep learning with TensorFlow\n",
        "import tensorflow as tf\n",
        "from tensorflow.keras.preprocessing.image import ImageDataGenerator\n",
        "from tensorflow.keras.applications import VGG19\n",
        "from tensorflow.keras.layers import Dense, Flatten\n",
        "from tensorflow.keras.models import Model\n",
        "from tensorflow.keras.callbacks import (\n",
        "    ModelCheckpoint,\n",
        "    TerminateOnNaN,\n",
        "    LearningRateScheduler,\n",
        "    CSVLogger,\n",
        "    TensorBoard,\n",
        "    ReduceLROnPlateau,\n",
        "    EarlyStopping,\n",
        ")\n",
        "import numpy as np\n",
        "from sklearn.metrics import classification_report, confusion_matrix, precision_score, recall_score, f1_score, roc_auc_score"
      ],
      "metadata": {
        "id": "VSXf1KGuDBfm",
        "collapsed": true
      },
      "execution_count": null,
      "outputs": []
    },
    {
      "cell_type": "code",
      "source": [
        "import os\n",
        "import shutil\n",
        "import random\n",
        "\n",
        "# Define the base dataset directory and the target directory\n",
        "base_dir = \"/content/dataset/Comprehensive Disaster Dataset(CDD)/\"\n",
        "target_dir = \"/content/working/\"\n",
        "\n",
        "# Create target directories for train, val, and test\n",
        "os.makedirs(os.path.join(target_dir, 'train'), exist_ok=True)\n",
        "os.makedirs(os.path.join(target_dir, 'val'), exist_ok=True)\n",
        "os.makedirs(os.path.join(target_dir, 'test'), exist_ok=True)\n",
        "\n",
        "# Set the split ratios\n",
        "train_ratio = 0.7\n",
        "val_ratio = 0.15\n",
        "test_ratio = 0.15\n",
        "\n",
        "# Ensure that the ratios add up to 1\n",
        "assert train_ratio + val_ratio + test_ratio == 1, \"Ratios must sum to 1\"\n",
        "\n",
        "# Loop through each class directory\n",
        "for class_name in os.listdir(base_dir):\n",
        "    class_path = os.path.join(base_dir, class_name)\n",
        "\n",
        "    if os.path.isdir(class_path):  # Check if it is a directory\n",
        "        # Get a list of all images in the class directory\n",
        "        images = os.listdir(class_path)\n",
        "        random.shuffle(images)  # Shuffle the images for randomness\n",
        "\n",
        "        # Calculate the number of images for each split\n",
        "        total_images = len(images)\n",
        "        train_count = int(total_images * train_ratio)\n",
        "        val_count = int(total_images * val_ratio)\n",
        "\n",
        "        # Split images into train, val, and test\n",
        "        train_images = images[:train_count]\n",
        "        val_images = images[train_count:train_count + val_count]\n",
        "        test_images = images[train_count + val_count:]\n",
        "\n",
        "        # Create class directories in target directories\n",
        "        os.makedirs(os.path.join(target_dir, 'train', class_name), exist_ok=True)\n",
        "        os.makedirs(os.path.join(target_dir, 'val', class_name), exist_ok=True)\n",
        "        os.makedirs(os.path.join(target_dir, 'test', class_name), exist_ok=True)\n",
        "\n",
        "        # Move the images to the corresponding directories\n",
        "        for image in train_images:\n",
        "            shutil.copy(os.path.join(class_path, image), os.path.join(target_dir, 'train', class_name, image))\n",
        "\n",
        "        for image in val_images:\n",
        "            shutil.copy(os.path.join(class_path, image), os.path.join(target_dir, 'val', class_name, image))\n",
        "\n",
        "        for image in test_images:\n",
        "            shutil.copy(os.path.join(class_path, image), os.path.join(target_dir, 'test', class_name, image))\n",
        "\n",
        "print(\"Dataset has been split into train, val, and test sets.\")"
      ],
      "metadata": {
        "colab": {
          "base_uri": "https://localhost:8080/"
        },
        "id": "PnGgDwIwFNVc",
        "outputId": "e9cdce6c-c217-4b17-bde6-56fef4014f4e"
      },
      "execution_count": null,
      "outputs": [
        {
          "output_type": "stream",
          "name": "stdout",
          "text": [
            "Dataset has been split into train, val, and test sets.\n"
          ]
        }
      ]
    },
    {
      "cell_type": "code",
      "source": [
        "\n",
        "train_dir = '/content/working/train/'\n",
        "val_dir = '/content/working/val/'\n",
        "test_dir = '/content/working/test/'\n",
        "\n",
        "def check_images(directory):\n",
        "    for root, dirs, files in os.walk(directory):\n",
        "        for file in files:\n",
        "            try:\n",
        "                img_path = os.path.join(root, file)\n",
        "                img = Image.open(img_path)\n",
        "                img.verify()  # Verify if the image is valid\n",
        "            except Exception as e:\n",
        "                os.remove(img_path)\n",
        "                print(f\"Corrupted image: {img_path}, Error: {e}\")\n",
        "\n",
        "check_images(train_dir)  # Check your train directory\n",
        "check_images(val_dir)    # Check your validation directory\n",
        "check_images(test_dir)   # Check your test directory\n",
        "print(\"CHECK DONE\")"
      ],
      "metadata": {
        "colab": {
          "base_uri": "https://localhost:8080/"
        },
        "id": "ZwxLiSFQFY3_",
        "outputId": "a01b864f-2fa2-4437-ae2c-e30c23e00868"
      },
      "execution_count": null,
      "outputs": [
        {
          "output_type": "stream",
          "name": "stdout",
          "text": [
            "Corrupted image: /content/working/train/Human_Damage/02_0069.png, Error: cannot identify image file '/content/working/train/Human_Damage/02_0069.png'\n",
            "CHECK DONE\n"
          ]
        }
      ]
    },
    {
      "cell_type": "code",
      "source": [
        "import os\n",
        "import tensorflow as tf\n",
        "from tensorflow.keras.preprocessing.image import ImageDataGenerator\n",
        "from tensorflow.keras.callbacks import EarlyStopping, ModelCheckpoint, LearningRateScheduler\n",
        "from tensorflow.keras.applications import VGG16\n",
        "from sklearn.metrics import classification_report, confusion_matrix\n",
        "\n",
        "# Set paths for training, validation, and test data\n",
        "train_dir = '/content/working/train/'\n",
        "val_dir = '/content/working/val/'\n",
        "test_dir = '/content/working/test/'\n",
        "\n",
        "# Image dimensions and other parameters\n",
        "img_height, img_width = 150, 150  # You can adjust this based on your needs\n",
        "batch_size = 32\n",
        "\n",
        "# Data augmentation for the training set\n",
        "train_datagen = ImageDataGenerator(\n",
        "    rescale=1.0/255,  # Normalize pixel values\n",
        "    rotation_range=40,\n",
        "    width_shift_range=0.2,\n",
        "    height_shift_range=0.2,\n",
        "    shear_range=0.2,\n",
        "    zoom_range=0.2,\n",
        "    horizontal_flip=True,\n",
        "    fill_mode='nearest',\n",
        "    brightness_range=[0.8, 1.2],  # Adjust brightness\n",
        "    channel_shift_range=20.0,  # Adjust color channels\n",
        ")\n",
        "\n",
        "# Data preparation for validation and test sets\n",
        "val_datagen = ImageDataGenerator(rescale=1.0/255)\n",
        "test_datagen = ImageDataGenerator(rescale=1.0/255)\n",
        "\n",
        "# Load images from directories\n",
        "train_generator = train_datagen.flow_from_directory(\n",
        "    train_dir,\n",
        "    target_size=(img_height, img_width),\n",
        "    batch_size=batch_size,\n",
        "    class_mode='categorical'  # Use 'binary' for binary classification\n",
        ")\n",
        "\n",
        "val_generator = val_datagen.flow_from_directory(\n",
        "    val_dir,\n",
        "    target_size=(img_height, img_width),\n",
        "    batch_size=batch_size,\n",
        "    class_mode='categorical'\n",
        ")\n",
        "\n",
        "test_generator = test_datagen.flow_from_directory(\n",
        "    test_dir,\n",
        "    target_size=(img_height, img_width),\n",
        "    batch_size=batch_size,\n",
        "    class_mode='categorical',\n",
        "    shuffle=False  # Do not shuffle for evaluation\n",
        ")\n",
        "\n",
        "# Transfer Learning - Load a pre-trained VGG16 model without the top layer\n",
        "base_model = VGG16(weights='imagenet', include_top=False, input_shape=(img_height, img_width, 3))\n",
        "\n",
        "# Freeze the layers of the pre-trained model\n",
        "base_model.trainable = False\n",
        "\n",
        "# Build the model using the pre-trained base model + custom classifier\n",
        "model = tf.keras.models.Sequential([\n",
        "    base_model,  # Pre-trained VGG16 model\n",
        "    tf.keras.layers.GlobalAveragePooling2D(),\n",
        "    tf.keras.layers.Dense(128, activation='relu'),\n",
        "    tf.keras.layers.Dense(len(train_generator.class_indices), activation='softmax')  # Number of classes\n",
        "])\n",
        "\n",
        "# Compile the model\n",
        "model.compile(optimizer='adam',\n",
        "              loss='categorical_crossentropy',\n",
        "              metrics=['accuracy'])\n",
        "\n",
        "# Callbacks\n",
        "early_stopping = EarlyStopping(monitor='val_loss', patience=5, restore_best_weights=True)\n",
        "model_checkpoint = ModelCheckpoint('best_model.keras', monitor='val_loss', save_best_only=True)\n",
        "lr_scheduler = LearningRateScheduler(lambda epoch: 1e-3 * 0.1 ** (epoch // 5))  # Reduce LR every 5 epochs\n",
        "\n",
        "# Train the model\n",
        "history = model.fit(\n",
        "    train_generator,\n",
        "    steps_per_epoch=train_generator.samples // batch_size,\n",
        "    validation_data=val_generator,\n",
        "    validation_steps=val_generator.samples // batch_size,\n",
        "    epochs=20,\n",
        "    callbacks=[early_stopping, model_checkpoint, lr_scheduler]\n",
        ")\n",
        "\n",
        "# Evaluate the model on the test set\n",
        "test_loss, test_accuracy = model.evaluate(test_generator)\n",
        "print(f'Test accuracy: {test_accuracy:.2f}')\n",
        "\n",
        "# Make predictions\n",
        "predictions = model.predict(test_generator)\n",
        "predicted_classes = predictions.argmax(axis=-1)\n",
        "true_classes = test_generator.classes\n",
        "\n",
        "# Classification report and confusion matrix\n",
        "print(classification_report(true_classes, predicted_classes))\n",
        "print(confusion_matrix(true_classes, predicted_classes))\n",
        "\n",
        "# Optionally, visualize the confusion matrix using seaborn\n",
        "import seaborn as sns\n",
        "import matplotlib.pyplot as plt\n",
        "\n",
        "conf_matrix = confusion_matrix(true_classes, predicted_classes)\n",
        "sns.heatmap(conf_matrix, annot=True, fmt='d', cmap='Blues', xticklabels=test_generator.class_indices, yticklabels=test_generator.class_indices)\n",
        "plt.xlabel('Predicted')\n",
        "plt.ylabel('True')\n",
        "plt.title('Confusion Matrix')\n",
        "plt.show()\n"
      ],
      "metadata": {
        "colab": {
          "base_uri": "https://localhost:8080/",
          "height": 1000
        },
        "id": "JsSdcZYEFdR-",
        "outputId": "8c1fc65f-bfaa-4428-bd18-fe55b31ce664"
      },
      "execution_count": null,
      "outputs": [
        {
          "output_type": "stream",
          "name": "stdout",
          "text": [
            "Found 9485 images belonging to 6 classes.\n",
            "Found 2031 images belonging to 6 classes.\n",
            "Found 2040 images belonging to 6 classes.\n",
            "Epoch 1/20\n",
            "\u001b[1m296/296\u001b[0m \u001b[32m━━━━━━━━━━━━━━━━━━━━\u001b[0m\u001b[37m\u001b[0m \u001b[1m120s\u001b[0m 366ms/step - accuracy: 0.6729 - loss: 0.9828 - val_accuracy: 0.7892 - val_loss: 0.6156 - learning_rate: 0.0010\n",
            "Epoch 2/20\n",
            "\u001b[1m296/296\u001b[0m \u001b[32m━━━━━━━━━━━━━━━━━━━━\u001b[0m\u001b[37m\u001b[0m \u001b[1m5s\u001b[0m 16ms/step - accuracy: 0.7188 - loss: 0.5846 - val_accuracy: 0.9333 - val_loss: 0.4401 - learning_rate: 0.0010\n",
            "Epoch 3/20\n",
            "\u001b[1m296/296\u001b[0m \u001b[32m━━━━━━━━━━━━━━━━━━━━\u001b[0m\u001b[37m\u001b[0m \u001b[1m123s\u001b[0m 347ms/step - accuracy: 0.7736 - loss: 0.6428 - val_accuracy: 0.7922 - val_loss: 0.5876 - learning_rate: 0.0010\n",
            "Epoch 4/20\n",
            "\u001b[1m296/296\u001b[0m \u001b[32m━━━━━━━━━━━━━━━━━━━━\u001b[0m\u001b[37m\u001b[0m \u001b[1m0s\u001b[0m 162us/step - accuracy: 0.8125 - loss: 0.7109 - val_accuracy: 0.8000 - val_loss: 0.5128 - learning_rate: 0.0010\n",
            "Epoch 5/20\n",
            "\u001b[1m296/296\u001b[0m \u001b[32m━━━━━━━━━━━━━━━━━━━━\u001b[0m\u001b[37m\u001b[0m \u001b[1m104s\u001b[0m 347ms/step - accuracy: 0.7918 - loss: 0.5934 - val_accuracy: 0.8155 - val_loss: 0.5275 - learning_rate: 0.0010\n",
            "Epoch 6/20\n",
            "\u001b[1m296/296\u001b[0m \u001b[32m━━━━━━━━━━━━━━━━━━━━\u001b[0m\u001b[37m\u001b[0m \u001b[1m0s\u001b[0m 1ms/step - accuracy: 0.7812 - loss: 0.8538 - val_accuracy: 0.9333 - val_loss: 0.1774 - learning_rate: 1.0000e-04\n",
            "Epoch 7/20\n",
            "\u001b[1m296/296\u001b[0m \u001b[32m━━━━━━━━━━━━━━━━━━━━\u001b[0m\u001b[37m\u001b[0m \u001b[1m105s\u001b[0m 349ms/step - accuracy: 0.8171 - loss: 0.5379 - val_accuracy: 0.8254 - val_loss: 0.5152 - learning_rate: 1.0000e-04\n",
            "Epoch 8/20\n",
            "\u001b[1m296/296\u001b[0m \u001b[32m━━━━━━━━━━━━━━━━━━━━\u001b[0m\u001b[37m\u001b[0m \u001b[1m3s\u001b[0m 11ms/step - accuracy: 0.7812 - loss: 0.5184 - val_accuracy: 0.8000 - val_loss: 0.7123 - learning_rate: 1.0000e-04\n",
            "Epoch 9/20\n",
            "\u001b[1m296/296\u001b[0m \u001b[32m━━━━━━━━━━━━━━━━━━━━\u001b[0m\u001b[37m\u001b[0m \u001b[1m139s\u001b[0m 347ms/step - accuracy: 0.8089 - loss: 0.5531 - val_accuracy: 0.8244 - val_loss: 0.5137 - learning_rate: 1.0000e-04\n",
            "Epoch 10/20\n",
            "\u001b[1m296/296\u001b[0m \u001b[32m━━━━━━━━━━━━━━━━━━━━\u001b[0m\u001b[37m\u001b[0m \u001b[1m0s\u001b[0m 1ms/step - accuracy: 0.8750 - loss: 0.3662 - val_accuracy: 1.0000 - val_loss: 0.1318 - learning_rate: 1.0000e-04\n",
            "Epoch 11/20\n",
            "\u001b[1m296/296\u001b[0m \u001b[32m━━━━━━━━━━━━━━━━━━━━\u001b[0m\u001b[37m\u001b[0m \u001b[1m105s\u001b[0m 347ms/step - accuracy: 0.8095 - loss: 0.5349 - val_accuracy: 0.8284 - val_loss: 0.5122 - learning_rate: 1.0000e-05\n",
            "Epoch 12/20\n",
            "\u001b[1m296/296\u001b[0m \u001b[32m━━━━━━━━━━━━━━━━━━━━\u001b[0m\u001b[37m\u001b[0m \u001b[1m0s\u001b[0m 159us/step - accuracy: 0.7188 - loss: 0.6713 - val_accuracy: 0.8667 - val_loss: 0.3198 - learning_rate: 1.0000e-05\n",
            "Epoch 13/20\n",
            "\u001b[1m296/296\u001b[0m \u001b[32m━━━━━━━━━━━━━━━━━━━━\u001b[0m\u001b[37m\u001b[0m \u001b[1m105s\u001b[0m 349ms/step - accuracy: 0.8190 - loss: 0.5248 - val_accuracy: 0.8269 - val_loss: 0.5140 - learning_rate: 1.0000e-05\n",
            "Epoch 14/20\n",
            "\u001b[1m296/296\u001b[0m \u001b[32m━━━━━━━━━━━━━━━━━━━━\u001b[0m\u001b[37m\u001b[0m \u001b[1m1s\u001b[0m 2ms/step - accuracy: 0.8750 - loss: 0.3320 - val_accuracy: 1.0000 - val_loss: 0.1307 - learning_rate: 1.0000e-05\n",
            "Epoch 15/20\n",
            "\u001b[1m296/296\u001b[0m \u001b[32m━━━━━━━━━━━━━━━━━━━━\u001b[0m\u001b[37m\u001b[0m \u001b[1m105s\u001b[0m 347ms/step - accuracy: 0.8142 - loss: 0.5299 - val_accuracy: 0.8299 - val_loss: 0.5091 - learning_rate: 1.0000e-05\n",
            "Epoch 16/20\n",
            "\u001b[1m296/296\u001b[0m \u001b[32m━━━━━━━━━━━━━━━━━━━━\u001b[0m\u001b[37m\u001b[0m \u001b[1m0s\u001b[0m 155us/step - accuracy: 0.7812 - loss: 0.6790 - val_accuracy: 0.6667 - val_loss: 0.8212 - learning_rate: 1.0000e-06\n",
            "Epoch 17/20\n",
            "\u001b[1m296/296\u001b[0m \u001b[32m━━━━━━━━━━━━━━━━━━━━\u001b[0m\u001b[37m\u001b[0m \u001b[1m105s\u001b[0m 348ms/step - accuracy: 0.8134 - loss: 0.5406 - val_accuracy: 0.8279 - val_loss: 0.5121 - learning_rate: 1.0000e-06\n",
            "Epoch 18/20\n",
            "\u001b[1m296/296\u001b[0m \u001b[32m━━━━━━━━━━━━━━━━━━━━\u001b[0m\u001b[37m\u001b[0m \u001b[1m0s\u001b[0m 163us/step - accuracy: 0.7812 - loss: 0.5476 - val_accuracy: 0.9333 - val_loss: 0.3945 - learning_rate: 1.0000e-06\n",
            "Epoch 19/20\n",
            "\u001b[1m296/296\u001b[0m \u001b[32m━━━━━━━━━━━━━━━━━━━━\u001b[0m\u001b[37m\u001b[0m \u001b[1m141s\u001b[0m 345ms/step - accuracy: 0.8196 - loss: 0.5211 - val_accuracy: 0.8284 - val_loss: 0.5107 - learning_rate: 1.0000e-06\n",
            "\u001b[1m64/64\u001b[0m \u001b[32m━━━━━━━━━━━━━━━━━━━━\u001b[0m\u001b[37m\u001b[0m \u001b[1m15s\u001b[0m 221ms/step - accuracy: 0.7316 - loss: 0.7306\n",
            "Test accuracy: 0.83\n",
            "\u001b[1m64/64\u001b[0m \u001b[32m━━━━━━━━━━━━━━━━━━━━\u001b[0m\u001b[37m\u001b[0m \u001b[1m8s\u001b[0m 104ms/step\n",
            "              precision    recall  f1-score   support\n",
            "\n",
            "           0       0.66      0.57      0.61       219\n",
            "           1       0.81      0.65      0.72       141\n",
            "           2       0.77      0.65      0.71        37\n",
            "           3       0.49      0.34      0.40       100\n",
            "           4       0.89      0.96      0.92      1387\n",
            "           5       0.66      0.56      0.61       156\n",
            "\n",
            "    accuracy                           0.83      2040\n",
            "   macro avg       0.71      0.62      0.66      2040\n",
            "weighted avg       0.82      0.83      0.82      2040\n",
            "\n",
            "[[ 124    9    2   10   60   14]\n",
            " [   9   92    2    0   33    5]\n",
            " [   7    0   24    3    3    0]\n",
            " [  18    3    0   34   29   16]\n",
            " [  17    5    2   18 1335   10]\n",
            " [  14    4    1    5   44   88]]\n"
          ]
        },
        {
          "output_type": "display_data",
          "data": {
            "text/plain": [
              "<Figure size 640x480 with 2 Axes>"
            ],
            "image/png": "[encoded data removed]"
          },
          "metadata": {}
        }
      ]
    },
    {
      "cell_type": "code",
      "source": [
        "model.save('/content/working/my_final_model.keras')  # Save as .keras format\n"
      ],
      "metadata": {
        "id": "gTD3pa1mSGBr"
      },
      "execution_count": null,
      "outputs": []
    },
    {
      "cell_type": "code",
      "source": [
        "from tensorflow.keras.models import load_model\n",
        "\n",
        "# Tải mô hình đã huấn luyện\n",
        "model = load_model('/content/working/my_final_model.keras')\n",
        "\n",
        "# Kiểm tra mô hình đã tải thành công\n",
        "model.summary()\n"
      ],
      "metadata": {
        "colab": {
          "base_uri": "https://localhost:8080/",
          "height": 289
        },
        "id": "HZdJpzkwTpgF",
        "outputId": "a7a7efb0-13cf-432f-8385-f9f8e64ccb3e"
      },
      "execution_count": null,
      "outputs": [
        {
          "output_type": "display_data",
          "data": {
            "text/plain": [
              "\u001b[1mModel: \"sequential_2\"\u001b[0m\n"
            ],
            "text/html": [
              "<pre style=\"white-space:pre;overflow-x:auto;line-height:normal;font-family:Menlo,'DejaVu Sans Mono',consolas,'Courier New',monospace\"><span style=\"font-weight: bold\">Model: \"sequential_2\"</span>\n",
              "</pre>\n"
            ]
          },
          "metadata": {}
        },
        {
          "output_type": "display_data",
          "data": {
            "text/plain": [
              "┏━━━━━━━━━━━━━━━━━━━━━━━━━━━━━━━━━━━━━━┳━━━━━━━━━━━━━━━━━━━━━━━━━━━━━┳━━━━━━━━━━━━━━━━━┓\n",
              "┃\u001b[1m \u001b[0m\u001b[1mLayer (type)                        \u001b[0m\u001b[1m \u001b[0m┃\u001b[1m \u001b[0m\u001b[1mOutput Shape               \u001b[0m\u001b[1m \u001b[0m┃\u001b[1m \u001b[0m\u001b[1m        Param #\u001b[0m\u001b[1m \u001b[0m┃\n",
              "┡━━━━━━━━━━━━━━━━━━━━━━━━━━━━━━━━━━━━━━╇━━━━━━━━━━━━━━━━━━━━━━━━━━━━━╇━━━━━━━━━━━━━━━━━┩\n",
              "│ vgg16 (\u001b[38;5;33mFunctional\u001b[0m)                   │ (\u001b[38;5;45mNone\u001b[0m, \u001b[38;5;34m4\u001b[0m, \u001b[38;5;34m4\u001b[0m, \u001b[38;5;34m512\u001b[0m)           │      \u001b[38;5;34m14,714,688\u001b[0m │\n",
              "├──────────────────────────────────────┼─────────────────────────────┼─────────────────┤\n",
              "│ global_average_pooling2d_1           │ (\u001b[38;5;45mNone\u001b[0m, \u001b[38;5;34m512\u001b[0m)                 │               \u001b[38;5;34m0\u001b[0m │\n",
              "│ (\u001b[38;5;33mGlobalAveragePooling2D\u001b[0m)             │                             │                 │\n",
              "├──────────────────────────────────────┼─────────────────────────────┼─────────────────┤\n",
              "│ dense_4 (\u001b[38;5;33mDense\u001b[0m)                      │ (\u001b[38;5;45mNone\u001b[0m, \u001b[38;5;34m128\u001b[0m)                 │          \u001b[38;5;34m65,664\u001b[0m │\n",
              "├──────────────────────────────────────┼─────────────────────────────┼─────────────────┤\n",
              "│ dense_5 (\u001b[38;5;33mDense\u001b[0m)                      │ (\u001b[38;5;45mNone\u001b[0m, \u001b[38;5;34m6\u001b[0m)                   │             \u001b[38;5;34m774\u001b[0m │\n",
              "└──────────────────────────────────────┴─────────────────────────────┴─────────────────┘\n"
            ],
            "text/html": [
              "<pre style=\"white-space:pre;overflow-x:auto;line-height:normal;font-family:Menlo,'DejaVu Sans Mono',consolas,'Courier New',monospace\">┏━━━━━━━━━━━━━━━━━━━━━━━━━━━━━━━━━━━━━━┳━━━━━━━━━━━━━━━━━━━━━━━━━━━━━┳━━━━━━━━━━━━━━━━━┓\n",
              "┃<span style=\"font-weight: bold\"> Layer (type)                         </span>┃<span style=\"font-weight: bold\"> Output Shape                </span>┃<span style=\"font-weight: bold\">         Param # </span>┃\n",
              "┡━━━━━━━━━━━━━━━━━━━━━━━━━━━━━━━━━━━━━━╇━━━━━━━━━━━━━━━━━━━━━━━━━━━━━╇━━━━━━━━━━━━━━━━━┩\n",
              "│ vgg16 (<span style=\"color: #0087ff; text-decoration-color: #0087ff\">Functional</span>)                   │ (<span style=\"color: #00d7ff; text-decoration-color: #00d7ff\">None</span>, <span style=\"color: #00af00; text-decoration-color: #00af00\">4</span>, <span style=\"color: #00af00; text-decoration-color: #00af00\">4</span>, <span style=\"color: #00af00; text-decoration-color: #00af00\">512</span>)           │      <span style=\"color: #00af00; text-decoration-color: #00af00\">14,714,688</span> │\n",
              "├──────────────────────────────────────┼─────────────────────────────┼─────────────────┤\n",
              "│ global_average_pooling2d_1           │ (<span style=\"color: #00d7ff; text-decoration-color: #00d7ff\">None</span>, <span style=\"color: #00af00; text-decoration-color: #00af00\">512</span>)                 │               <span style=\"color: #00af00; text-decoration-color: #00af00\">0</span> │\n",
              "│ (<span style=\"color: #0087ff; text-decoration-color: #0087ff\">GlobalAveragePooling2D</span>)             │                             │                 │\n",
              "├──────────────────────────────────────┼─────────────────────────────┼─────────────────┤\n",
              "│ dense_4 (<span style=\"color: #0087ff; text-decoration-color: #0087ff\">Dense</span>)                      │ (<span style=\"color: #00d7ff; text-decoration-color: #00d7ff\">None</span>, <span style=\"color: #00af00; text-decoration-color: #00af00\">128</span>)                 │          <span style=\"color: #00af00; text-decoration-color: #00af00\">65,664</span> │\n",
              "├──────────────────────────────────────┼─────────────────────────────┼─────────────────┤\n",
              "│ dense_5 (<span style=\"color: #0087ff; text-decoration-color: #0087ff\">Dense</span>)                      │ (<span style=\"color: #00d7ff; text-decoration-color: #00d7ff\">None</span>, <span style=\"color: #00af00; text-decoration-color: #00af00\">6</span>)                   │             <span style=\"color: #00af00; text-decoration-color: #00af00\">774</span> │\n",
              "└──────────────────────────────────────┴─────────────────────────────┴─────────────────┘\n",
              "</pre>\n"
            ]
          },
          "metadata": {}
        },
        {
          "output_type": "display_data",
          "data": {
            "text/plain": [
              "\u001b[1m Total params: \u001b[0m\u001b[38;5;34m14,914,004\u001b[0m (56.89 MB)\n"
            ],
            "text/html": [
              "<pre style=\"white-space:pre;overflow-x:auto;line-height:normal;font-family:Menlo,'DejaVu Sans Mono',consolas,'Courier New',monospace\"><span style=\"font-weight: bold\"> Total params: </span><span style=\"color: #00af00; text-decoration-color: #00af00\">14,914,004</span> (56.89 MB)\n",
              "</pre>\n"
            ]
          },
          "metadata": {}
        },
        {
          "output_type": "display_data",
          "data": {
            "text/plain": [
              "\u001b[1m Trainable params: \u001b[0m\u001b[38;5;34m66,438\u001b[0m (259.52 KB)\n"
            ],
            "text/html": [
              "<pre style=\"white-space:pre;overflow-x:auto;line-height:normal;font-family:Menlo,'DejaVu Sans Mono',consolas,'Courier New',monospace\"><span style=\"font-weight: bold\"> Trainable params: </span><span style=\"color: #00af00; text-decoration-color: #00af00\">66,438</span> (259.52 KB)\n",
              "</pre>\n"
            ]
          },
          "metadata": {}
        },
        {
          "output_type": "display_data",
          "data": {
            "text/plain": [
              "\u001b[1m Non-trainable params: \u001b[0m\u001b[38;5;34m14,714,688\u001b[0m (56.13 MB)\n"
            ],
            "text/html": [
              "<pre style=\"white-space:pre;overflow-x:auto;line-height:normal;font-family:Menlo,'DejaVu Sans Mono',consolas,'Courier New',monospace\"><span style=\"font-weight: bold\"> Non-trainable params: </span><span style=\"color: #00af00; text-decoration-color: #00af00\">14,714,688</span> (56.13 MB)\n",
              "</pre>\n"
            ]
          },
          "metadata": {}
        },
        {
          "output_type": "display_data",
          "data": {
            "text/plain": [
              "\u001b[1m Optimizer params: \u001b[0m\u001b[38;5;34m132,878\u001b[0m (519.06 KB)\n"
            ],
            "text/html": [
              "<pre style=\"white-space:pre;overflow-x:auto;line-height:normal;font-family:Menlo,'DejaVu Sans Mono',consolas,'Courier New',monospace\"><span style=\"font-weight: bold\"> Optimizer params: </span><span style=\"color: #00af00; text-decoration-color: #00af00\">132,878</span> (519.06 KB)\n",
              "</pre>\n"
            ]
          },
          "metadata": {}
        }
      ]
    },
    {
      "cell_type": "code",
      "source": [
        "from tensorflow.keras.preprocessing import image\n",
        "import numpy as np\n",
        "\n",
        "# Đường dẫn đến hình ảnh cần dự đoán\n",
        "img_path = '/content/working/train/Damaged_Infrastructure/05_01_0033.png'  # Hoặc từ URL\n",
        "\n",
        "# Tải và xử lý hình ảnh\n",
        "img = image.load_img(img_path, target_size=(150, 150))  # Thay đổi kích thước hình ảnh về 150x150\n",
        "img_array = image.img_to_array(img)  # Chuyển đổi hình ảnh thành mảng numpy\n",
        "img_array = np.expand_dims(img_array, axis=0)  # Thêm chiều batch (trở thành [1, 150, 150, 3])\n",
        "img_array = img_array / 255.0  # Chuẩn hóa lại giá trị pixel về dải [0, 1] nếu mô hình được huấn luyện theo cách này\n",
        "\n",
        "# Dự đoán\n",
        "predictions = model.predict(img_array,batch_size=128)\n",
        "\n",
        "# Lấy lớp dự đoán với xác suất cao nhất\n",
        "predicted_class_index = np.argmax(predictions, axis=1)\n",
        "\n",
        "# Lấy tên lớp tương ứng với chỉ số lớp\n",
        "class_names = list(train_generator.class_indices.keys())  # Lấy tên các lớp từ class_indices\n",
        "predicted_class_name = class_names[predicted_class_index[0]]  # Tìm tên lớp dự đoán\n",
        "\n",
        "# In ra lớp dự đoán và tên lớp\n",
        "print(f'Dự đoán lớp: {predicted_class_index[0]} - {predicted_class_name}')\n"
      ],
      "metadata": {
        "colab": {
          "base_uri": "https://localhost:8080/"
        },
        "id": "3S-53iBpTrMK",
        "outputId": "43628cbd-88c1-4f54-ef14-a478c102d7a9"
      },
      "execution_count": null,
      "outputs": [
        {
          "output_type": "stream",
          "name": "stdout",
          "text": [
            "\u001b[1m1/1\u001b[0m \u001b[32m━━━━━━━━━━━━━━━━━━━━\u001b[0m\u001b[37m\u001b[0m \u001b[1m0s\u001b[0m 17ms/step\n",
            "Dự đoán lớp: 0 - Damaged_Infrastructure\n"
          ]
        }
      ]
    }
  ]
}